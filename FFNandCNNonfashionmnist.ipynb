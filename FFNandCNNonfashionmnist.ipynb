{
 "cells": [
  {
   "cell_type": "markdown",
   "metadata": {},
   "source": [
    "# Introductory application of neural networks to data analysis\n",
    "\n",
    "In this notebook we give a condensed intro to the application of feed forward networks to a common data set without discussing deeply the theory and motivation. We try different network complexities, optimizers and activation functions to get a feeling for how they impact the minimization of the loss/error/cost function. Regularization techniques are not discussed here since we do not train for too many epochs and the overall scores are not too good to justify thir application to counter overfitting. For further discussion on different network architectures, we refer to repositories [here](https://github.com/andreaspts/DL_DEEPNET_vs_CONVNET_on_MNIST) and [here](https://github.com/andreaspts/DL_REC_vs_DEEP_and_CONVNN_on_TEMPERATURE_SERIES)."
   ]
  },
  {
   "cell_type": "markdown",
   "metadata": {},
   "source": [
    "## 1) Single neuron"
   ]
  },
  {
   "cell_type": "code",
   "execution_count": 89,
   "metadata": {},
   "outputs": [],
   "source": [
    "#import relevant data\n",
    "from sklearn.linear_model import LogisticRegression"
   ]
  },
  {
   "cell_type": "code",
   "execution_count": 90,
   "metadata": {},
   "outputs": [],
   "source": [
    "#define data \n",
    "X = [[50], [60], [70], [20], [10], [30]]\n",
    "\n",
    "Y = [1,1,1,0,0,0]"
   ]
  },
  {
   "cell_type": "code",
   "execution_count": 91,
   "metadata": {},
   "outputs": [
    {
     "name": "stderr",
     "output_type": "stream",
     "text": [
      "/Users/Andreas/anaconda3/lib/python3.6/site-packages/sklearn/linear_model/logistic.py:433: FutureWarning: Default solver will be changed to 'lbfgs' in 0.22. Specify a solver to silence this warning.\n",
      "  FutureWarning)\n"
     ]
    },
    {
     "data": {
      "text/plain": [
       "LogisticRegression(C=100000, class_weight=None, dual=False,\n",
       "          fit_intercept=True, intercept_scaling=1, max_iter=100,\n",
       "          multi_class='warn', n_jobs=None, penalty='l2', random_state=None,\n",
       "          solver='warn', tol=0.0001, verbose=0, warm_start=False)"
      ]
     },
     "execution_count": 91,
     "metadata": {},
     "output_type": "execute_result"
    }
   ],
   "source": [
    "model = LogisticRegression(C = 100000) #large C dampens regulatization\n",
    "model.fit(X,Y)"
   ]
  },
  {
   "cell_type": "code",
   "execution_count": 92,
   "metadata": {},
   "outputs": [
    {
     "data": {
      "text/plain": [
       "array([1])"
      ]
     },
     "execution_count": 92,
     "metadata": {},
     "output_type": "execute_result"
    }
   ],
   "source": [
    "model.predict([[44]])"
   ]
  },
  {
   "cell_type": "code",
   "execution_count": 93,
   "metadata": {},
   "outputs": [
    {
     "data": {
      "text/plain": [
       "array([[0.08358881, 0.91641119]])"
      ]
     },
     "execution_count": 93,
     "metadata": {},
     "output_type": "execute_result"
    }
   ],
   "source": [
    "model.predict_proba([[44]])"
   ]
  },
  {
   "cell_type": "markdown",
   "metadata": {},
   "source": [
    "## 2 ) Simple neural network on fashion mnist\n",
    "\n",
    "In the following we will discuss the application of simple feed forward neural networks onto the fashion mnist data set to classify item categories. The network architectures we use are implemented conveniently via keras. The data set can be retrieved from [here](https://github.com/zalandoresearch/fashion-mnist). A score board comparing different ml methods using classical scikit-learn algorithms and neural networks is found [here](http://fashion-mnist.s3-website.eu-central-1.amazonaws.com/)."
   ]
  },
  {
   "cell_type": "code",
   "execution_count": 94,
   "metadata": {},
   "outputs": [],
   "source": [
    "import tensorflow\n",
    "import keras"
   ]
  },
  {
   "cell_type": "code",
   "execution_count": 95,
   "metadata": {},
   "outputs": [],
   "source": [
    "import gzip \n",
    "import numpy as np\n",
    "\n",
    "%matplotlib inline\n",
    "import matplotlib.pyplot as plt"
   ]
  },
  {
   "cell_type": "code",
   "execution_count": 96,
   "metadata": {},
   "outputs": [],
   "source": [
    "def open_images(filename):\n",
    "    with gzip.open(filename, \"rb\") as file:\n",
    "        data = file.read()\n",
    "        return np.frombuffer(data, dtype = np.uint8, offset = 16)\\\n",
    "            .reshape(-1, 28, 28)\\\n",
    "            .astype(np.float32)\n",
    "    \n",
    "def open_labels(filename):\n",
    "    with gzip.open(filename, \"rb\") as file:\n",
    "        data = file.read()\n",
    "        return np.frombuffer(data, dtype = np.uint8, offset = 8)"
   ]
  },
  {
   "cell_type": "markdown",
   "metadata": {},
   "source": [
    "### One category "
   ]
  },
  {
   "cell_type": "code",
   "execution_count": 97,
   "metadata": {},
   "outputs": [],
   "source": [
    "#load data and define variables\n",
    "X_train = open_images(\"train-images-idx3-ubyte.gz\")\n",
    "Y_train = open_labels(\"train-labels-idx1-ubyte.gz\")\n",
    "\n",
    "Y_train = (Y_train == 0) #just checking for the t-shirts\n",
    "\n",
    "X_test = open_images(\"t10k-images-idx3-ubyte.gz\")\n",
    "Y_test = open_labels(\"t10k-labels-idx1-ubyte.gz\")\n",
    "\n",
    "Y_test = (Y_test == 0) #just checking for the t-shirts"
   ]
  },
  {
   "cell_type": "code",
   "execution_count": 98,
   "metadata": {},
   "outputs": [
    {
     "data": {
      "text/plain": [
       "(60000, 28, 28)"
      ]
     },
     "execution_count": 98,
     "metadata": {},
     "output_type": "execute_result"
    }
   ],
   "source": [
    "X_train.shape"
   ]
  },
  {
   "cell_type": "code",
   "execution_count": 99,
   "metadata": {},
   "outputs": [
    {
     "data": {
      "text/plain": [
       "(28, 28)"
      ]
     },
     "execution_count": 99,
     "metadata": {},
     "output_type": "execute_result"
    }
   ],
   "source": [
    "X_train[1].shape"
   ]
  },
  {
   "cell_type": "code",
   "execution_count": 100,
   "metadata": {},
   "outputs": [
    {
     "data": {
      "image/png": "[encoded data removed]",
      "text/plain": [
       "<Figure size 432x288 with 1 Axes>"
      ]
     },
     "metadata": {
      "needs_background": "light"
     },
     "output_type": "display_data"
    }
   ],
   "source": [
    "plt.imshow(X_train[100], cmap = \"gray_r\")\n",
    "plt.show()"
   ]
  },
  {
   "cell_type": "code",
   "execution_count": 101,
   "metadata": {},
   "outputs": [
    {
     "data": {
      "text/plain": [
       "(60000,)"
      ]
     },
     "execution_count": 101,
     "metadata": {},
     "output_type": "execute_result"
    }
   ],
   "source": [
    "Y_train.shape"
   ]
  },
  {
   "cell_type": "code",
   "execution_count": 102,
   "metadata": {},
   "outputs": [
    {
     "data": {
      "text/plain": [
       "array([False,  True,  True, ..., False,  True, False])"
      ]
     },
     "execution_count": 102,
     "metadata": {},
     "output_type": "execute_result"
    }
   ],
   "source": [
    "Y_train"
   ]
  },
  {
   "cell_type": "code",
   "execution_count": 103,
   "metadata": {},
   "outputs": [],
   "source": [
    "from keras import layers\n",
    "from keras import models"
   ]
  },
  {
   "cell_type": "code",
   "execution_count": 104,
   "metadata": {},
   "outputs": [
    {
     "name": "stdout",
     "output_type": "stream",
     "text": [
      "_________________________________________________________________\n",
      "Layer (type)                 Output Shape              Param #   \n",
      "=================================================================\n",
      "dense_9 (Dense)              (None, 100)               78500     \n",
      "_________________________________________________________________\n",
      "dense_10 (Dense)             (None, 1)                 101       \n",
      "=================================================================\n",
      "Total params: 78,601\n",
      "Trainable params: 78,601\n",
      "Non-trainable params: 0\n",
      "_________________________________________________________________\n"
     ]
    }
   ],
   "source": [
    "#define model\n",
    "\n",
    "model = models.Sequential()\n",
    "\n",
    "model.add(layers.Dense(100, activation = \"sigmoid\", input_shape = (28 * 28,))) # we have 28*28 pixels\n",
    "model.add(layers.Dense(1, activation = \"sigmoid\"))\n",
    "model.summary()\n",
    "model.compile(optimizer = \"sgd\", loss = \"binary_crossentropy\", metrics = ['accuracy'])"
   ]
  },
  {
   "cell_type": "markdown",
   "metadata": {},
   "source": [
    "Stochastic gradient descent was employed as optimizer. Below we will use an improved version of gradient descent which tries to smoothen out oscillations in the descending procedure (gd with momentum, rmsprop or adam optimizers)."
   ]
  },
  {
   "cell_type": "code",
   "execution_count": 105,
   "metadata": {},
   "outputs": [
    {
     "data": {
      "text/html": [
       "<img src=\"gdanimations.gif\"/>"
      ],
      "text/plain": [
       "<IPython.core.display.Image object>"
      ]
     },
     "execution_count": 105,
     "metadata": {},
     "output_type": "execute_result"
    }
   ],
   "source": [
    "#illustration of different optimizers\n",
    "from IPython.display import Image\n",
    "Image(url='gdanimations.gif')  "
   ]
  },
  {
   "cell_type": "code",
   "execution_count": 106,
   "metadata": {},
   "outputs": [
    {
     "name": "stdout",
     "output_type": "stream",
     "text": [
      "Epoch 1/10\n",
      "60000/60000 [==============================] - 1s 18us/step - loss: 0.2440 - acc: 0.9014\n",
      "Epoch 2/10\n",
      "60000/60000 [==============================] - 1s 15us/step - loss: 0.1752 - acc: 0.9300\n",
      "Epoch 3/10\n",
      "60000/60000 [==============================] - 1s 14us/step - loss: 0.1549 - acc: 0.9443\n",
      "Epoch 4/10\n",
      "60000/60000 [==============================] - 1s 14us/step - loss: 0.1437 - acc: 0.9478\n",
      "Epoch 5/10\n",
      "60000/60000 [==============================] - 1s 14us/step - loss: 0.1358 - acc: 0.9500\n",
      "Epoch 6/10\n",
      "60000/60000 [==============================] - 1s 13us/step - loss: 0.1308 - acc: 0.9510\n",
      "Epoch 7/10\n",
      "60000/60000 [==============================] - 1s 14us/step - loss: 0.1267 - acc: 0.9519\n",
      "Epoch 8/10\n",
      "60000/60000 [==============================] - 1s 14us/step - loss: 0.1240 - acc: 0.9523\n",
      "Epoch 9/10\n",
      "60000/60000 [==============================] - 1s 13us/step - loss: 0.1216 - acc: 0.9530\n",
      "Epoch 10/10\n",
      "60000/60000 [==============================] - 1s 13us/step - loss: 0.1193 - acc: 0.9533\n"
     ]
    }
   ],
   "source": [
    "#train model\n",
    "#train on minibatches of 1000 to get an adjustment (thus 60 adjustments per epoch)\n",
    "history = model.fit(X_train.reshape(60000, 784), Y_train, epochs = 10, batch_size = 1000)"
   ]
  },
  {
   "cell_type": "code",
   "execution_count": 107,
   "metadata": {},
   "outputs": [
    {
     "name": "stdout",
     "output_type": "stream",
     "text": [
      "False\n",
      "[[0.00378084]]\n"
     ]
    },
    {
     "data": {
      "image/png": "[encoded data removed]",
      "text/plain": [
       "<Figure size 432x288 with 1 Axes>"
      ]
     },
     "metadata": {
      "needs_background": "light"
     },
     "output_type": "display_data"
    }
   ],
   "source": [
    "#check per hand prediction on training data vs. reality\n",
    "plt.imshow(X_train[0], cmap = \"gray_r\")\n",
    "print(Y_train[0])\n",
    "print(model.predict(X_train[0].reshape(1, 784)))"
   ]
  },
  {
   "cell_type": "code",
   "execution_count": 108,
   "metadata": {},
   "outputs": [
    {
     "name": "stdout",
     "output_type": "stream",
     "text": [
      "True\n",
      "[[0.83936864]]\n"
     ]
    },
    {
     "data": {
      "image/png": "[encoded data removed]",
      "text/plain": [
       "<Figure size 432x288 with 1 Axes>"
      ]
     },
     "metadata": {
      "needs_background": "light"
     },
     "output_type": "display_data"
    }
   ],
   "source": [
    "#check per hand prediction on training data vs. reality\n",
    "plt.imshow(X_train[1],cmap = \"gray_r\")\n",
    "print(Y_train[1])\n",
    "print(model.predict(X_train[1].reshape(1, 784)))"
   ]
  },
  {
   "cell_type": "code",
   "execution_count": 109,
   "metadata": {},
   "outputs": [
    {
     "data": {
      "text/plain": [
       "0.9540833333333333"
      ]
     },
     "execution_count": 109,
     "metadata": {},
     "output_type": "execute_result"
    }
   ],
   "source": [
    "#check the accuracy (per hand)\n",
    "Y_train_pred = model.predict(X_train.reshape(60000, 784))\n",
    "np.mean(np.round(Y_train_pred).reshape(-1) == Y_train)"
   ]
  },
  {
   "cell_type": "code",
   "execution_count": 110,
   "metadata": {},
   "outputs": [
    {
     "name": "stdout",
     "output_type": "stream",
     "text": [
      "60000/60000 [==============================] - 3s 45us/step\n"
     ]
    },
    {
     "data": {
      "text/plain": [
       "[0.11775630943874518, 0.9540833333333333]"
      ]
     },
     "execution_count": 110,
     "metadata": {},
     "output_type": "execute_result"
    }
   ],
   "source": [
    "#check accuracy on training set via keras --> use output from fitting process\n",
    "model.evaluate(X_train.reshape(60000, 784), Y_train)"
   ]
  },
  {
   "cell_type": "code",
   "execution_count": 111,
   "metadata": {},
   "outputs": [
    {
     "name": "stdout",
     "output_type": "stream",
     "text": [
      "['loss', 'acc']\n"
     ]
    }
   ],
   "source": [
    "print(model.metrics_names)"
   ]
  },
  {
   "cell_type": "code",
   "execution_count": 112,
   "metadata": {},
   "outputs": [
    {
     "name": "stdout",
     "output_type": "stream",
     "text": [
      "10000/10000 [==============================] - 0s 45us/step\n"
     ]
    },
    {
     "data": {
      "text/plain": [
       "[0.12449604877829552, 0.9496]"
      ]
     },
     "execution_count": 112,
     "metadata": {},
     "output_type": "execute_result"
    }
   ],
   "source": [
    "#check accuracy on test set via keras --> use output from fitting process\n",
    "model.evaluate(X_test.reshape(10000, 784), Y_test)"
   ]
  },
  {
   "cell_type": "code",
   "execution_count": 113,
   "metadata": {},
   "outputs": [
    {
     "name": "stdout",
     "output_type": "stream",
     "text": [
      "dict_keys(['loss', 'acc'])\n"
     ]
    }
   ],
   "source": [
    "# list all data in history\n",
    "print(history.history.keys())"
   ]
  },
  {
   "cell_type": "code",
   "execution_count": 114,
   "metadata": {
    "scrolled": true
   },
   "outputs": [
    {
     "data": {
      "image/png": "[encoded data removed]",
      "text/plain": [
       "<Figure size 432x288 with 1 Axes>"
      ]
     },
     "metadata": {
      "needs_background": "light"
     },
     "output_type": "display_data"
    },
    {
     "data": {
      "image/png": "[encoded data removed]",
      "text/plain": [
       "<Figure size 432x288 with 1 Axes>"
      ]
     },
     "metadata": {
      "needs_background": "light"
     },
     "output_type": "display_data"
    }
   ],
   "source": [
    "# summarize history for accuracy\n",
    "plt.plot(history.history['acc'])\n",
    "plt.title('model accuracy')\n",
    "plt.ylabel('accuracy')\n",
    "plt.xlabel('epoch')\n",
    "plt.legend(['train'], loc='upper left')\n",
    "plt.show()\n",
    "\n",
    "# summarize history for loss\n",
    "plt.plot(history.history['loss'])\n",
    "plt.title('model loss')\n",
    "plt.ylabel('loss')\n",
    "plt.xlabel('epoch')\n",
    "plt.legend(['train'], loc='upper left')\n",
    "plt.show()"
   ]
  },
  {
   "cell_type": "markdown",
   "metadata": {},
   "source": [
    "### Many categories"
   ]
  },
  {
   "cell_type": "markdown",
   "metadata": {},
   "source": [
    "To this aim: Modify final activation function, output dimension and loss function"
   ]
  },
  {
   "cell_type": "code",
   "execution_count": 115,
   "metadata": {},
   "outputs": [],
   "source": [
    "#load data and define variables\n",
    "X_train = open_images(\"train-images-idx3-ubyte.gz\")\n",
    "Y_train = open_labels(\"train-labels-idx1-ubyte.gz\")\n",
    "\n",
    "X_test = open_images(\"t10k-images-idx3-ubyte.gz\")\n",
    "Y_test = open_labels(\"t10k-labels-idx1-ubyte.gz\")"
   ]
  },
  {
   "cell_type": "code",
   "execution_count": 116,
   "metadata": {},
   "outputs": [],
   "source": [
    "from keras import layers\n",
    "from keras import models\n",
    "from keras.utils import to_categorical"
   ]
  },
  {
   "cell_type": "code",
   "execution_count": 117,
   "metadata": {},
   "outputs": [],
   "source": [
    "#use one-hot-encoding\n",
    "Y_train = to_categorical(Y_train)\n",
    "Y_test = to_categorical(Y_test)"
   ]
  },
  {
   "cell_type": "code",
   "execution_count": 118,
   "metadata": {},
   "outputs": [
    {
     "name": "stdout",
     "output_type": "stream",
     "text": [
      "_________________________________________________________________\n",
      "Layer (type)                 Output Shape              Param #   \n",
      "=================================================================\n",
      "dense_11 (Dense)             (None, 2048)              1607680   \n",
      "_________________________________________________________________\n",
      "dense_12 (Dense)             (None, 256)               524544    \n",
      "_________________________________________________________________\n",
      "dense_13 (Dense)             (None, 10)                2570      \n",
      "=================================================================\n",
      "Total params: 2,134,794\n",
      "Trainable params: 2,134,794\n",
      "Non-trainable params: 0\n",
      "_________________________________________________________________\n"
     ]
    }
   ],
   "source": [
    "#define model (adapt to categorical situaton)\n",
    "\n",
    "model = models.Sequential()\n",
    "\n",
    "model.add(layers.Dense(2048, activation = \"sigmoid\", input_shape = (28 * 28,))) # we have 28*28 pixels\n",
    "model.add(layers.Dense(256, activation = \"sigmoid\", input_shape = (28 * 28,))) # we have 28*28 pixels\n",
    "model.add(layers.Dense(10, activation = \"sigmoid\"))\n",
    "model.summary()\n",
    "model.compile(optimizer = \"adam\", loss = \"categorical_crossentropy\", metrics = ['accuracy'])"
   ]
  },
  {
   "cell_type": "code",
   "execution_count": 119,
   "metadata": {},
   "outputs": [
    {
     "name": "stdout",
     "output_type": "stream",
     "text": [
      "Epoch 1/10\n",
      "60000/60000 [==============================] - 15s 258us/step - loss: 0.8556 - acc: 0.7260\n",
      "Epoch 2/10\n",
      "60000/60000 [==============================] - 16s 259us/step - loss: 0.5199 - acc: 0.8221\n",
      "Epoch 3/10\n",
      "60000/60000 [==============================] - 15s 249us/step - loss: 0.4909 - acc: 0.8305\n",
      "Epoch 4/10\n",
      "60000/60000 [==============================] - 18s 306us/step - loss: 0.4864 - acc: 0.8289\n",
      "Epoch 5/10\n",
      "60000/60000 [==============================] - 17s 287us/step - loss: 0.4933 - acc: 0.8243\n",
      "Epoch 6/10\n",
      "60000/60000 [==============================] - 16s 263us/step - loss: 0.4796 - acc: 0.8283\n",
      "Epoch 7/10\n",
      "60000/60000 [==============================] - 15s 255us/step - loss: 0.4935 - acc: 0.8217\n",
      "Epoch 8/10\n",
      "60000/60000 [==============================] - 16s 259us/step - loss: 0.4851 - acc: 0.8250\n",
      "Epoch 9/10\n",
      "60000/60000 [==============================] - 16s 261us/step - loss: 0.4862 - acc: 0.8233\n",
      "Epoch 10/10\n",
      "60000/60000 [==============================] - 15s 252us/step - loss: 0.4947 - acc: 0.8216\n"
     ]
    }
   ],
   "source": [
    "#train model\n",
    "#train on minibatches of 1000 to get an adjustment (thus 60 adjustments per epoch)\n",
    "history = model.fit(X_train.reshape(60000, 784), Y_train, epochs = 10, batch_size = 1000)"
   ]
  },
  {
   "cell_type": "code",
   "execution_count": 120,
   "metadata": {},
   "outputs": [
    {
     "name": "stdout",
     "output_type": "stream",
     "text": [
      "60000/60000 [==============================] - 14s 234us/step\n"
     ]
    },
    {
     "data": {
      "text/plain": [
       "[0.4635373484134674, 0.8362166666666667]"
      ]
     },
     "execution_count": 120,
     "metadata": {},
     "output_type": "execute_result"
    }
   ],
   "source": [
    "#check accuracy on training set via keras --> use output from fitting process\n",
    "model.evaluate(X_train.reshape(60000, 784), Y_train)"
   ]
  },
  {
   "cell_type": "code",
   "execution_count": 121,
   "metadata": {},
   "outputs": [
    {
     "name": "stdout",
     "output_type": "stream",
     "text": [
      "10000/10000 [==============================] - 2s 231us/step\n"
     ]
    },
    {
     "data": {
      "text/plain": [
       "[0.5011240222454071, 0.8235]"
      ]
     },
     "execution_count": 121,
     "metadata": {},
     "output_type": "execute_result"
    }
   ],
   "source": [
    "#check accuracy on test set via keras --> use output from fitting process\n",
    "model.evaluate(X_test.reshape(10000, 784), Y_test)"
   ]
  },
  {
   "cell_type": "code",
   "execution_count": 122,
   "metadata": {},
   "outputs": [
    {
     "name": "stdout",
     "output_type": "stream",
     "text": [
      "dict_keys(['loss', 'acc'])\n"
     ]
    }
   ],
   "source": [
    "# list all data in history\n",
    "print(history.history.keys())"
   ]
  },
  {
   "cell_type": "code",
   "execution_count": 123,
   "metadata": {},
   "outputs": [
    {
     "data": {
      "image/png": "[encoded data removed]",
      "text/plain": [
       "<Figure size 432x288 with 1 Axes>"
      ]
     },
     "metadata": {
      "needs_background": "light"
     },
     "output_type": "display_data"
    },
    {
     "data": {
      "image/png": "[encoded data removed]",
      "text/plain": [
       "<Figure size 432x288 with 1 Axes>"
      ]
     },
     "metadata": {
      "needs_background": "light"
     },
     "output_type": "display_data"
    }
   ],
   "source": [
    "# summarize history for accuracy\n",
    "plt.plot(history.history['acc'])\n",
    "plt.title('model accuracy')\n",
    "plt.ylabel('accuracy')\n",
    "plt.xlabel('epoch')\n",
    "plt.legend(['train'], loc='upper left')\n",
    "plt.show()\n",
    "\n",
    "# summarize history for loss\n",
    "plt.plot(history.history['loss'])\n",
    "plt.title('model loss')\n",
    "plt.ylabel('loss')\n",
    "plt.xlabel('epoch')\n",
    "plt.legend(['train'], loc='upper left')\n",
    "plt.show()"
   ]
  },
  {
   "cell_type": "code",
   "execution_count": 124,
   "metadata": {},
   "outputs": [
    {
     "data": {
      "text/plain": [
       "array([9, 2, 1, ..., 8, 1, 5])"
      ]
     },
     "execution_count": 124,
     "metadata": {},
     "output_type": "execute_result"
    }
   ],
   "source": [
    "#model evaluation via confusion matrix (helps to see if classes are well discerned)\n",
    "Y_pred = model.predict(X_test.reshape(-1, 784))\n",
    "\n",
    "#check for which category the highest estimate was produced for all examples in the test set\n",
    "np.argmax(Y_pred, axis = 1)"
   ]
  },
  {
   "cell_type": "code",
   "execution_count": 125,
   "metadata": {},
   "outputs": [],
   "source": [
    "from pandas_ml import ConfusionMatrix"
   ]
  },
  {
   "cell_type": "code",
   "execution_count": 126,
   "metadata": {},
   "outputs": [
    {
     "data": {
      "text/plain": [
       "Predicted     0    1     2     3     4    5    6     7     8     9  __all__\n",
       "Actual                                                                     \n",
       "0           801    4    22    59     7    0   92     0    14     1     1000\n",
       "1             4  940    13    34     7    0    0     0     2     0     1000\n",
       "2            13    1   739     9   145    0   87     0     6     0     1000\n",
       "3            20   12    12   871    30    0   51     0     4     0     1000\n",
       "4             0    0   144    53   696    0  101     0     6     0     1000\n",
       "5             1    0     0     1     0  862    0    63     4    69     1000\n",
       "6           169    3   138    40   111    0  513     0    26     0     1000\n",
       "7             0    0     0     0     0   12    0   954     1    33     1000\n",
       "8             2    1    19     5     6    1   23     6   936     1     1000\n",
       "9             1    0     0     0     0    5    0    70     1   923     1000\n",
       "__all__    1011  961  1087  1072  1002  880  867  1093  1000  1027    10000"
      ]
     },
     "execution_count": 126,
     "metadata": {},
     "output_type": "execute_result"
    }
   ],
   "source": [
    "ConfusionMatrix(np.argmax(Y_test, axis = 1), np.argmax(Y_pred, axis = 1))"
   ]
  },
  {
   "cell_type": "markdown",
   "metadata": {},
   "source": [
    "For example: Column \"2\" line \"0\": 27 is to be read as: Predicted was category \"2\" when it was actually category \"0\". In this way, the confusion matrix allows to see how well our model maps the reality. Ideally, we would like to have a model with vanishing off-diagonal terms."
   ]
  },
  {
   "cell_type": "markdown",
   "metadata": {},
   "source": [
    "#### Introducing the softmax as final layer activation function"
   ]
  },
  {
   "cell_type": "code",
   "execution_count": 127,
   "metadata": {},
   "outputs": [
    {
     "name": "stdout",
     "output_type": "stream",
     "text": [
      "_________________________________________________________________\n",
      "Layer (type)                 Output Shape              Param #   \n",
      "=================================================================\n",
      "dense_14 (Dense)             (None, 2048)              1607680   \n",
      "_________________________________________________________________\n",
      "dense_15 (Dense)             (None, 256)               524544    \n",
      "_________________________________________________________________\n",
      "dense_16 (Dense)             (None, 10)                2570      \n",
      "=================================================================\n",
      "Total params: 2,134,794\n",
      "Trainable params: 2,134,794\n",
      "Non-trainable params: 0\n",
      "_________________________________________________________________\n"
     ]
    }
   ],
   "source": [
    "#define model (adapt to categorical situaton)\n",
    "\n",
    "model = models.Sequential()\n",
    "\n",
    "model.add(layers.Dense(2048, activation = \"sigmoid\", input_shape = (28 * 28,))) # we have 28*28 pixels\n",
    "model.add(layers.Dense(256, activation = \"sigmoid\", input_shape = (28 * 28,))) # we have 28*28 pixels\n",
    "model.add(layers.Dense(10, activation = \"softmax\"))\n",
    "model.summary()\n",
    "model.compile(optimizer = \"rmsprop\", loss = \"categorical_crossentropy\", metrics = ['accuracy'])"
   ]
  },
  {
   "cell_type": "code",
   "execution_count": 128,
   "metadata": {},
   "outputs": [
    {
     "name": "stdout",
     "output_type": "stream",
     "text": [
      "Epoch 1/10\n",
      "60000/60000 [==============================] - 14s 236us/step - loss: 0.9679 - acc: 0.6526\n",
      "Epoch 2/10\n",
      "60000/60000 [==============================] - 14s 235us/step - loss: 0.6288 - acc: 0.7630\n",
      "Epoch 3/10\n",
      "60000/60000 [==============================] - 15s 243us/step - loss: 0.5655 - acc: 0.7887\n",
      "Epoch 4/10\n",
      "60000/60000 [==============================] - 15s 246us/step - loss: 0.5253 - acc: 0.7993\n",
      "Epoch 5/10\n",
      "60000/60000 [==============================] - 16s 267us/step - loss: 0.4985 - acc: 0.8124\n",
      "Epoch 6/10\n",
      "60000/60000 [==============================] - 16s 269us/step - loss: 0.4809 - acc: 0.8175\n",
      "Epoch 7/10\n",
      "60000/60000 [==============================] - 17s 281us/step - loss: 0.4652 - acc: 0.8246\n",
      "Epoch 8/10\n",
      "60000/60000 [==============================] - 16s 266us/step - loss: 0.4555 - acc: 0.8318\n",
      "Epoch 9/10\n",
      "60000/60000 [==============================] - 16s 274us/step - loss: 0.4531 - acc: 0.8285\n",
      "Epoch 10/10\n",
      "60000/60000 [==============================] - 17s 276us/step - loss: 0.4391 - acc: 0.8337\n"
     ]
    }
   ],
   "source": [
    "#train model\n",
    "#train on minibatches of 1000 to get an adjustment (thus 60 adjustments per epoch)\n",
    "history = model.fit(X_train.reshape(60000, 784), Y_train, epochs = 10, batch_size = 1000)"
   ]
  },
  {
   "cell_type": "markdown",
   "metadata": {},
   "source": [
    "We observe that the tanh and sigmoid activations work better on this problem than relu."
   ]
  },
  {
   "cell_type": "code",
   "execution_count": 129,
   "metadata": {},
   "outputs": [
    {
     "name": "stdout",
     "output_type": "stream",
     "text": [
      "60000/60000 [==============================] - 13s 213us/step\n"
     ]
    },
    {
     "data": {
      "text/plain": [
       "[0.3949452796717485, 0.8547666666666667]"
      ]
     },
     "execution_count": 129,
     "metadata": {},
     "output_type": "execute_result"
    }
   ],
   "source": [
    "#check accuracy on training set via keras --> use output from fitting process\n",
    "model.evaluate(X_train.reshape(60000, 784), Y_train)"
   ]
  },
  {
   "cell_type": "code",
   "execution_count": 130,
   "metadata": {},
   "outputs": [
    {
     "name": "stdout",
     "output_type": "stream",
     "text": [
      "10000/10000 [==============================] - 2s 223us/step\n"
     ]
    },
    {
     "data": {
      "text/plain": [
       "[0.436017037320137, 0.843]"
      ]
     },
     "execution_count": 130,
     "metadata": {},
     "output_type": "execute_result"
    }
   ],
   "source": [
    "#check accuracy on test set via keras --> use output from fitting process\n",
    "model.evaluate(X_test.reshape(10000, 784), Y_test)"
   ]
  },
  {
   "cell_type": "code",
   "execution_count": 131,
   "metadata": {},
   "outputs": [],
   "source": [
    "from pandas_ml import ConfusionMatrix"
   ]
  },
  {
   "cell_type": "code",
   "execution_count": 132,
   "metadata": {},
   "outputs": [
    {
     "data": {
      "text/plain": [
       "array([9, 2, 1, ..., 8, 1, 5])"
      ]
     },
     "execution_count": 132,
     "metadata": {},
     "output_type": "execute_result"
    }
   ],
   "source": [
    "#model evaluation via confusion matrix (helps to see if classes are well discerned)\n",
    "Y_pred = model.predict(X_test.reshape(-1, 784))\n",
    "\n",
    "#check for which category the highest estimate was produced for all examples in the test set\n",
    "np.argmax(Y_pred, axis = 1)"
   ]
  },
  {
   "cell_type": "code",
   "execution_count": 133,
   "metadata": {},
   "outputs": [
    {
     "data": {
      "text/plain": [
       "Predicted    0    1    2    3     4    5     6     7     8    9  __all__\n",
       "Actual                                                                  \n",
       "0          799    1    8   32     3    0   145     0    12    0     1000\n",
       "1            5  949    7   30     4    0     3     0     2    0     1000\n",
       "2           11    1  629    7   226    1   118     0     7    0     1000\n",
       "3           33    7    5  856    43    0    53     0     3    0     1000\n",
       "4            1    1   60   29   802    0   103     0     4    0     1000\n",
       "5            0    0    0    1     0  938     0    42     1   18     1000\n",
       "6          144    0   91   23   107    0   620     0    15    0     1000\n",
       "7            0    0    0    0     0   21     0   951     0   28     1000\n",
       "8            1    0    6    4     5    3    20     5   956    0     1000\n",
       "9            0    0    0    0     0   13     0    56     1  930     1000\n",
       "__all__    994  959  806  982  1190  976  1062  1054  1001  976    10000"
      ]
     },
     "execution_count": 133,
     "metadata": {},
     "output_type": "execute_result"
    }
   ],
   "source": [
    "ConfusionMatrix(np.argmax(Y_test, axis = 1), np.argmax(Y_pred, axis = 1))"
   ]
  },
  {
   "cell_type": "markdown",
   "metadata": {},
   "source": [
    "We understand from the different scores (training and test scores are pretty close) that by increaing the network capacity more statistical intricacies of the data set could be unveiled. \n",
    "\n",
    "If they were to far from each other (while the training score would be good) the complexity would be to big and we would observe overfitting.\n",
    "\n",
    "If both scores would be bad, more data could help."
   ]
  },
  {
   "cell_type": "markdown",
   "metadata": {},
   "source": [
    "## 3 ) Simple convolutional neural network on fashion mnist"
   ]
  },
  {
   "cell_type": "code",
   "execution_count": 134,
   "metadata": {},
   "outputs": [],
   "source": [
    "#import relevant packages\n",
    "\n",
    "import tensorflow\n",
    "import keras\n",
    "\n",
    "import gzip \n",
    "import numpy as np\n",
    "\n",
    "%matplotlib inline\n",
    "import matplotlib.pyplot as plt\n",
    "\n",
    "from keras import layers\n",
    "from keras import models\n",
    "from keras.utils import to_categorical\n",
    "\n",
    "from pandas_ml import ConfusionMatrix"
   ]
  },
  {
   "cell_type": "code",
   "execution_count": 135,
   "metadata": {},
   "outputs": [],
   "source": [
    "def open_images(filename):\n",
    "    with gzip.open(filename, \"rb\") as file:\n",
    "        data = file.read()\n",
    "        return np.frombuffer(data, dtype = np.uint8, offset = 16)\\\n",
    "            .reshape(-1, 28, 28)\\\n",
    "            .astype(np.float32)\n",
    "    \n",
    "def open_labels(filename):\n",
    "    with gzip.open(filename, \"rb\") as file:\n",
    "        data = file.read()\n",
    "        return np.frombuffer(data, dtype = np.uint8, offset = 8)"
   ]
  },
  {
   "cell_type": "code",
   "execution_count": 136,
   "metadata": {},
   "outputs": [],
   "source": [
    "#load data and define variables\n",
    "X_train = open_images(\"train-images-idx3-ubyte.gz\")\n",
    "Y_train = open_labels(\"train-labels-idx1-ubyte.gz\")\n",
    "\n",
    "X_test = open_images(\"t10k-images-idx3-ubyte.gz\")\n",
    "Y_test = open_labels(\"t10k-labels-idx1-ubyte.gz\")"
   ]
  },
  {
   "cell_type": "code",
   "execution_count": 137,
   "metadata": {},
   "outputs": [],
   "source": [
    "#use one-hot-encoding\n",
    "Y_train = to_categorical(Y_train)\n",
    "Y_test = to_categorical(Y_test)"
   ]
  },
  {
   "cell_type": "code",
   "execution_count": 138,
   "metadata": {},
   "outputs": [
    {
     "name": "stdout",
     "output_type": "stream",
     "text": [
      "_________________________________________________________________\n",
      "Layer (type)                 Output Shape              Param #   \n",
      "=================================================================\n",
      "conv2d_8 (Conv2D)            (None, 26, 26, 30)        300       \n",
      "_________________________________________________________________\n",
      "flatten_5 (Flatten)          (None, 20280)             0         \n",
      "_________________________________________________________________\n",
      "dense_17 (Dense)             (None, 256)               5191936   \n",
      "_________________________________________________________________\n",
      "dense_18 (Dense)             (None, 10)                2570      \n",
      "=================================================================\n",
      "Total params: 5,194,806\n",
      "Trainable params: 5,194,806\n",
      "Non-trainable params: 0\n",
      "_________________________________________________________________\n"
     ]
    }
   ],
   "source": [
    "#define model (adapt to categorical situaton)\n",
    "#first conv layer 10 filters, size (3,3)\n",
    "\n",
    "model = models.Sequential()\n",
    "\n",
    "model.add(layers.Conv2D(30, kernel_size = (3,3), activation = \"relu\", input_shape = (28, 28, 1))) # we have 28*28 pixels\n",
    "model.add(layers.Flatten())\n",
    "model.add(layers.Dense(256, activation = \"sigmoid\"))\n",
    "model.add(layers.Dense(10, activation = \"softmax\"))\n",
    "model.summary()\n",
    "model.compile(optimizer = \"adam\", loss = \"categorical_crossentropy\", metrics = ['accuracy'])"
   ]
  },
  {
   "cell_type": "code",
   "execution_count": 139,
   "metadata": {},
   "outputs": [
    {
     "name": "stdout",
     "output_type": "stream",
     "text": [
      "Epoch 1/10\n",
      "60000/60000 [==============================] - 62s 1ms/step - loss: 1.2470 - acc: 0.6988\n",
      "Epoch 2/10\n",
      "60000/60000 [==============================] - 59s 978us/step - loss: 0.6008 - acc: 0.8227\n",
      "Epoch 3/10\n",
      "60000/60000 [==============================] - 62s 1ms/step - loss: 0.4385 - acc: 0.8574\n",
      "Epoch 4/10\n",
      "60000/60000 [==============================] - 64s 1ms/step - loss: 0.3746 - acc: 0.8756\n",
      "Epoch 5/10\n",
      "60000/60000 [==============================] - 58s 968us/step - loss: 0.3440 - acc: 0.8834\n",
      "Epoch 6/10\n",
      "60000/60000 [==============================] - 58s 966us/step - loss: 0.3172 - acc: 0.8907\n",
      "Epoch 7/10\n",
      "60000/60000 [==============================] - 59s 987us/step - loss: 0.2965 - acc: 0.8970\n",
      "Epoch 8/10\n",
      "60000/60000 [==============================] - 58s 970us/step - loss: 0.2837 - acc: 0.9001\n",
      "Epoch 9/10\n",
      "60000/60000 [==============================] - 58s 960us/step - loss: 0.2688 - acc: 0.9054\n",
      "Epoch 10/10\n",
      "60000/60000 [==============================] - 58s 975us/step - loss: 0.2575 - acc: 0.9087\n"
     ]
    }
   ],
   "source": [
    "#train model\n",
    "#train on minibatches of 1000 to get an adjustment (thus 60 adjustments per epoch)\n",
    "history = model.fit(X_train.reshape(60000, 28, 28, 1), Y_train, epochs = 10, batch_size = 1000)"
   ]
  },
  {
   "cell_type": "code",
   "execution_count": 140,
   "metadata": {},
   "outputs": [
    {
     "name": "stdout",
     "output_type": "stream",
     "text": [
      "60000/60000 [==============================] - 26s 438us/step\n"
     ]
    },
    {
     "data": {
      "text/plain": [
       "[0.24787114770213764, 0.91335]"
      ]
     },
     "execution_count": 140,
     "metadata": {},
     "output_type": "execute_result"
    }
   ],
   "source": [
    "#check accuracy on training set via keras --> use output from fitting process\n",
    "model.evaluate(X_train.reshape(60000, 28, 28, 1), Y_train)"
   ]
  },
  {
   "cell_type": "code",
   "execution_count": 141,
   "metadata": {},
   "outputs": [
    {
     "name": "stdout",
     "output_type": "stream",
     "text": [
      "10000/10000 [==============================] - 4s 397us/step\n"
     ]
    },
    {
     "data": {
      "text/plain": [
       "[0.31888016719818113, 0.8871]"
      ]
     },
     "execution_count": 141,
     "metadata": {},
     "output_type": "execute_result"
    }
   ],
   "source": [
    "#check accuracy on test set via keras --> use output from fitting process\n",
    "model.evaluate(X_test.reshape(10000, 28, 28, 1), Y_test)"
   ]
  },
  {
   "cell_type": "code",
   "execution_count": 142,
   "metadata": {},
   "outputs": [
    {
     "data": {
      "image/png": "[encoded data removed]",
      "text/plain": [
       "<Figure size 432x288 with 1 Axes>"
      ]
     },
     "metadata": {
      "needs_background": "light"
     },
     "output_type": "display_data"
    },
    {
     "data": {
      "image/png": "[encoded data removed]",
      "text/plain": [
       "<Figure size 432x288 with 1 Axes>"
      ]
     },
     "metadata": {
      "needs_background": "light"
     },
     "output_type": "display_data"
    }
   ],
   "source": [
    "# summarize history for accuracy\n",
    "plt.plot(history.history['acc'])\n",
    "plt.title('model accuracy')\n",
    "plt.ylabel('accuracy')\n",
    "plt.xlabel('epoch')\n",
    "plt.legend(['train'], loc='upper left')\n",
    "plt.show()\n",
    "\n",
    "# summarize history for loss\n",
    "plt.plot(history.history['loss'])\n",
    "plt.title('model loss')\n",
    "plt.ylabel('loss')\n",
    "plt.xlabel('epoch')\n",
    "plt.legend(['train'], loc='upper left')\n",
    "plt.show()"
   ]
  },
  {
   "cell_type": "code",
   "execution_count": 143,
   "metadata": {},
   "outputs": [
    {
     "data": {
      "text/plain": [
       "Predicted     0    1     2     3    4     5    6     7     8     9  __all__\n",
       "Actual                                                                     \n",
       "0           866    0    20    19    5     4   78     0     8     0     1000\n",
       "1             0  959     2    27    4     0    6     0     2     0     1000\n",
       "2            13    0   838     8   80     0   60     0     1     0     1000\n",
       "3            19    2    15   917   23     0   23     0     1     0     1000\n",
       "4             1    1   109    39  779     0   71     0     0     0     1000\n",
       "5             0    0     0     0    0   974    0    17     0     9     1000\n",
       "6           133    1   105    35   65     0  646     0    15     0     1000\n",
       "7             0    0     0     0    0    17    0   954     0    29     1000\n",
       "8             3    1     3     4    2     2    6     3   976     0     1000\n",
       "9             0    0     0     0    0     9    0    28     1   962     1000\n",
       "__all__    1035  964  1092  1049  958  1006  890  1002  1004  1000    10000"
      ]
     },
     "execution_count": 143,
     "metadata": {},
     "output_type": "execute_result"
    }
   ],
   "source": [
    "#model evaluation via confusion matrix (helps to see if classes are well discerned)\n",
    "Y_pred = model.predict(X_test.reshape(-1, 28, 28, 1))\n",
    "\n",
    "#check for which category the highest estimate was produced for all examples in the test set\n",
    "np.argmax(Y_pred, axis = 1)\n",
    "\n",
    "ConfusionMatrix(np.argmax(Y_test, axis = 1), np.argmax(Y_pred, axis = 1))"
   ]
  },
  {
   "cell_type": "code",
   "execution_count": 144,
   "metadata": {},
   "outputs": [],
   "source": [
    "#visualize weights of layer 0\n",
    "import keras.backend as K\n",
    "\n",
    "data = K.eval(model.layers[0].weights[0])\n",
    "#weights of filter 1\n",
    "data0 = data[:, :, :, 12].reshape(3, 3)"
   ]
  },
  {
   "cell_type": "code",
   "execution_count": 145,
   "metadata": {},
   "outputs": [
    {
     "data": {
      "image/png": "[encoded data removed]",
      "text/plain": [
       "<Figure size 432x288 with 1 Axes>"
      ]
     },
     "metadata": {
      "needs_background": "light"
     },
     "output_type": "display_data"
    }
   ],
   "source": [
    "#visualize filter\n",
    "plt.imshow(data0)\n",
    "plt.show()"
   ]
  },
  {
   "cell_type": "markdown",
   "metadata": {},
   "source": [
    "These results may be compared to the so-called Sobel operator used in image processing for edge detection, see [here](https://en.wikipedia.org/wiki/Sobel_operator) and compare directly to the teXed matrices in:\n",
    "\n",
    "$\\mathbf{G}_x = \\begin{bmatrix} \n",
    " +1 & 0 & -1  \\\\\n",
    "+2 & 0 & -2 \\\\\n",
    "+1 & 0 & -1 \n",
    "\\end{bmatrix} * \\mathbf{A}\n",
    "\\quad\n",
    "\\mbox{and}\n",
    "\\quad   \n",
    "\\mathbf{G}_y = \\begin{bmatrix} \n",
    " +1 & +2 & +1\\\\\n",
    " 0 & 0 & 0 \\\\\n",
    "-1 & -2 & -1\n",
    "\\end{bmatrix} * \\mathbf{A}$"
   ]
  },
  {
   "cell_type": "code",
   "execution_count": 146,
   "metadata": {},
   "outputs": [],
   "source": [
    "#visualize activations\n",
    "#retrieve them from the model architecture; try different activations to see the change\n",
    "model2 = models.Sequential()\n",
    "\n",
    "model2.add(layers.Conv2D(30, kernel_size = (3,3), \n",
    "                         activation = \"tanh\", \n",
    "                         input_shape = (28, 28, 1),\n",
    "                         weights = model.layers[0].get_weights())) # we have 28*28 pixels"
   ]
  },
  {
   "cell_type": "code",
   "execution_count": 147,
   "metadata": {},
   "outputs": [
    {
     "data": {
      "image/png": "[encoded data removed]",
      "text/plain": [
       "<Figure size 432x288 with 1 Axes>"
      ]
     },
     "metadata": {
      "needs_background": "light"
     },
     "output_type": "display_data"
    }
   ],
   "source": [
    "plt.imshow(X_test[0])\n",
    "plt.show()"
   ]
  },
  {
   "cell_type": "code",
   "execution_count": 148,
   "metadata": {},
   "outputs": [],
   "source": [
    "result = model2.predict(X_test[0].reshape(1, 28, 28, 1))"
   ]
  },
  {
   "cell_type": "code",
   "execution_count": 149,
   "metadata": {},
   "outputs": [
    {
     "data": {
      "text/plain": [
       "(1, 26, 26, 30)"
      ]
     },
     "execution_count": 149,
     "metadata": {},
     "output_type": "execute_result"
    }
   ],
   "source": [
    "result.shape"
   ]
  },
  {
   "cell_type": "code",
   "execution_count": 150,
   "metadata": {},
   "outputs": [
    {
     "data": {
      "image/png": "[encoded data removed]",
      "text/plain": [
       "<Figure size 432x288 with 1 Axes>"
      ]
     },
     "metadata": {
      "needs_background": "light"
     },
     "output_type": "display_data"
    }
   ],
   "source": [
    "#plot activations of filter 0\n",
    "plt.imshow(result[0][:, :, 0])\n",
    "plt.show()"
   ]
  },
  {
   "cell_type": "markdown",
   "metadata": {},
   "source": [
    "### Max pooling layers\n",
    "\n",
    "Intuition: reduces complexity as it condenses information from a bunch of pixels (supposed to be similar) down as it takes their maximum (filters it out and passes it on)\n",
    "\n",
    "-often after a conv layer\n",
    "\n",
    "-network generalizes more and better\n",
    "\n",
    "-number of outputs lower (less computational cost)\n",
    "\n",
    "Notice: The max pooling layer is a filter the weights of which are fixed and are not learnt by the fitting procedure!"
   ]
  },
  {
   "cell_type": "code",
   "execution_count": 151,
   "metadata": {},
   "outputs": [
    {
     "name": "stdout",
     "output_type": "stream",
     "text": [
      "_________________________________________________________________\n",
      "Layer (type)                 Output Shape              Param #   \n",
      "=================================================================\n",
      "conv2d_10 (Conv2D)           (None, 26, 26, 30)        300       \n",
      "_________________________________________________________________\n",
      "max_pooling2d_3 (MaxPooling2 (None, 13, 13, 30)        0         \n",
      "_________________________________________________________________\n",
      "flatten_6 (Flatten)          (None, 5070)              0         \n",
      "_________________________________________________________________\n",
      "dense_19 (Dense)             (None, 256)               1298176   \n",
      "_________________________________________________________________\n",
      "dense_20 (Dense)             (None, 10)                2570      \n",
      "=================================================================\n",
      "Total params: 1,301,046\n",
      "Trainable params: 1,301,046\n",
      "Non-trainable params: 0\n",
      "_________________________________________________________________\n"
     ]
    }
   ],
   "source": [
    "#define model (adapt to categorical situaton)\n",
    "#first conv layer 10 filters, size (3,3)\n",
    "\n",
    "model = models.Sequential()\n",
    "\n",
    "model.add(layers.Conv2D(30, kernel_size = (3,3), activation = \"relu\", input_shape = (28, 28, 1))) # we have 28*28 pixels\n",
    "model.add(layers.MaxPooling2D(pool_size = (2, 2)))\n",
    "model.add(layers.Flatten())\n",
    "model.add(layers.Dense(256, activation = \"sigmoid\"))\n",
    "model.add(layers.Dense(10, activation = \"softmax\"))\n",
    "model.summary()\n",
    "model.compile(optimizer = \"adam\", loss = \"categorical_crossentropy\", metrics = ['accuracy'])"
   ]
  },
  {
   "cell_type": "code",
   "execution_count": 152,
   "metadata": {},
   "outputs": [
    {
     "name": "stdout",
     "output_type": "stream",
     "text": [
      "Epoch 1/10\n",
      "60000/60000 [==============================] - 30s 496us/step - loss: 0.8820 - acc: 0.7480\n",
      "Epoch 2/10\n",
      "60000/60000 [==============================] - 31s 510us/step - loss: 0.4386 - acc: 0.8587\n",
      "Epoch 3/10\n",
      "60000/60000 [==============================] - 30s 506us/step - loss: 0.3495 - acc: 0.8829\n",
      "Epoch 4/10\n",
      "60000/60000 [==============================] - 30s 505us/step - loss: 0.3041 - acc: 0.8960\n",
      "Epoch 5/10\n",
      "60000/60000 [==============================] - 31s 512us/step - loss: 0.2792 - acc: 0.9026\n",
      "Epoch 6/10\n",
      "60000/60000 [==============================] - 29s 479us/step - loss: 0.2585 - acc: 0.9085\n",
      "Epoch 7/10\n",
      "60000/60000 [==============================] - 31s 515us/step - loss: 0.2422 - acc: 0.9148\n",
      "Epoch 8/10\n",
      "60000/60000 [==============================] - 29s 488us/step - loss: 0.2292 - acc: 0.9190\n",
      "Epoch 9/10\n",
      "60000/60000 [==============================] - 29s 477us/step - loss: 0.2192 - acc: 0.9216\n",
      "Epoch 10/10\n",
      "60000/60000 [==============================] - 29s 480us/step - loss: 0.2072 - acc: 0.9278\n"
     ]
    }
   ],
   "source": [
    "#train model\n",
    "#train on minibatches of 1000 to get an adjustment (thus 60 adjustments per epoch)\n",
    "history = model.fit(X_train.reshape(60000, 28, 28, 1), Y_train, epochs = 10, batch_size = 1000)"
   ]
  },
  {
   "cell_type": "code",
   "execution_count": 153,
   "metadata": {},
   "outputs": [
    {
     "name": "stdout",
     "output_type": "stream",
     "text": [
      "60000/60000 [==============================] - 12s 208us/step\n"
     ]
    },
    {
     "data": {
      "text/plain": [
       "[0.19264636429746945, 0.93355]"
      ]
     },
     "execution_count": 153,
     "metadata": {},
     "output_type": "execute_result"
    }
   ],
   "source": [
    "#check accuracy on training set via keras --> use output from fitting process\n",
    "model.evaluate(X_train.reshape(60000, 28, 28, 1), Y_train)"
   ]
  },
  {
   "cell_type": "code",
   "execution_count": 154,
   "metadata": {},
   "outputs": [
    {
     "name": "stdout",
     "output_type": "stream",
     "text": [
      "10000/10000 [==============================] - 2s 201us/step\n"
     ]
    },
    {
     "data": {
      "text/plain": [
       "[0.2658280455827713, 0.9018]"
      ]
     },
     "execution_count": 154,
     "metadata": {},
     "output_type": "execute_result"
    }
   ],
   "source": [
    "#check accuracy on test set via keras --> use output from fitting process\n",
    "model.evaluate(X_test.reshape(10000, 28, 28, 1), Y_test)"
   ]
  },
  {
   "cell_type": "markdown",
   "metadata": {},
   "source": [
    "We see that the max_pooling layer improves the performance of the network."
   ]
  },
  {
   "cell_type": "markdown",
   "metadata": {},
   "source": [
    "### Dropout\n",
    "\n",
    "Regularization to counter overfitting."
   ]
  },
  {
   "cell_type": "code",
   "execution_count": 85,
   "metadata": {},
   "outputs": [
    {
     "name": "stdout",
     "output_type": "stream",
     "text": [
      "_________________________________________________________________\n",
      "Layer (type)                 Output Shape              Param #   \n",
      "=================================================================\n",
      "conv2d_7 (Conv2D)            (None, 26, 26, 30)        300       \n",
      "_________________________________________________________________\n",
      "max_pooling2d_2 (MaxPooling2 (None, 13, 13, 30)        0         \n",
      "_________________________________________________________________\n",
      "dropout_1 (Dropout)          (None, 13, 13, 30)        0         \n",
      "_________________________________________________________________\n",
      "flatten_4 (Flatten)          (None, 5070)              0         \n",
      "_________________________________________________________________\n",
      "dense_7 (Dense)              (None, 256)               1298176   \n",
      "_________________________________________________________________\n",
      "dropout_2 (Dropout)          (None, 256)               0         \n",
      "_________________________________________________________________\n",
      "dense_8 (Dense)              (None, 10)                2570      \n",
      "=================================================================\n",
      "Total params: 1,301,046\n",
      "Trainable params: 1,301,046\n",
      "Non-trainable params: 0\n",
      "_________________________________________________________________\n"
     ]
    }
   ],
   "source": [
    "#define model (adapt to categorical situaton)\n",
    "#first conv layer 10 filters, size (3,3)\n",
    "\n",
    "model = models.Sequential()\n",
    "\n",
    "model.add(layers.Conv2D(30, kernel_size = (3,3), activation = \"relu\", input_shape = (28, 28, 1))) # we have 28*28 pixels\n",
    "model.add(layers.MaxPooling2D(pool_size = (2, 2)))\n",
    "model.add(layers.Dropout(0.3))\n",
    "model.add(layers.Flatten())\n",
    "model.add(layers.Dense(256, activation = \"sigmoid\"))\n",
    "model.add(layers.Dropout(0.3))\n",
    "model.add(layers.Dense(10, activation = \"softmax\"))\n",
    "model.summary()\n",
    "model.compile(optimizer = \"adam\", loss = \"categorical_crossentropy\", metrics = ['accuracy'])"
   ]
  },
  {
   "cell_type": "code",
   "execution_count": 86,
   "metadata": {},
   "outputs": [
    {
     "name": "stdout",
     "output_type": "stream",
     "text": [
      "Epoch 1/10\n",
      "60000/60000 [==============================] - 34s 566us/step - loss: 0.8138 - acc: 0.7089\n",
      "Epoch 2/10\n",
      "60000/60000 [==============================] - 33s 556us/step - loss: 0.4878 - acc: 0.8250\n",
      "Epoch 3/10\n",
      "60000/60000 [==============================] - 36s 607us/step - loss: 0.4167 - acc: 0.8523\n",
      "Epoch 4/10\n",
      "60000/60000 [==============================] - 38s 637us/step - loss: 0.3800 - acc: 0.8647\n",
      "Epoch 5/10\n",
      "60000/60000 [==============================] - 37s 616us/step - loss: 0.3581 - acc: 0.8717\n",
      "Epoch 6/10\n",
      "60000/60000 [==============================] - 39s 651us/step - loss: 0.3400 - acc: 0.8782\n",
      "Epoch 7/10\n",
      "60000/60000 [==============================] - 40s 659us/step - loss: 0.3283 - acc: 0.8816\n",
      "Epoch 8/10\n",
      "60000/60000 [==============================] - 36s 608us/step - loss: 0.3158 - acc: 0.8870\n",
      "Epoch 9/10\n",
      "60000/60000 [==============================] - 35s 588us/step - loss: 0.3074 - acc: 0.8873\n",
      "Epoch 10/10\n",
      "60000/60000 [==============================] - 37s 612us/step - loss: 0.2978 - acc: 0.8909\n"
     ]
    }
   ],
   "source": [
    "#train model\n",
    "#train on minibatches of 1000 to get an adjustment (thus 60 adjustments per epoch)\n",
    "history = model.fit(X_train.reshape(60000, 28, 28, 1), Y_train, epochs = 10, batch_size = 1000)"
   ]
  },
  {
   "cell_type": "code",
   "execution_count": 87,
   "metadata": {},
   "outputs": [
    {
     "name": "stdout",
     "output_type": "stream",
     "text": [
      "60000/60000 [==============================] - 14s 232us/step\n",
      "[0.246747728429238, 0.9100333333333334]\n"
     ]
    }
   ],
   "source": [
    "#check accuracy on training set via keras --> use output from fitting process\n",
    "print(model.evaluate(X_train.reshape(60000, 28, 28, 1), Y_train))"
   ]
  },
  {
   "cell_type": "code",
   "execution_count": 88,
   "metadata": {},
   "outputs": [
    {
     "name": "stdout",
     "output_type": "stream",
     "text": [
      "10000/10000 [==============================] - 2s 228us/step\n",
      "[0.2916194279789925, 0.8928]\n"
     ]
    }
   ],
   "source": [
    "#check accuracy on test set via keras --> use output from fitting process\n",
    "print(model.evaluate(X_test.reshape(10000, 28, 28, 1), Y_test))"
   ]
  },
  {
   "cell_type": "markdown",
   "metadata": {},
   "source": [
    "A nice visualization of the operations done by the layers of a network for digit classification can be found [here](https://www.cs.ryerson.ca/~aharley/vis/conv/flat.html)."
   ]
  },
  {
   "cell_type": "code",
   "execution_count": null,
   "metadata": {},
   "outputs": [],
   "source": []
  }
 ],
 "metadata": {
  "kernelspec": {
   "display_name": "Python 3",
   "language": "python",
   "name": "python3"
  },
  "language_info": {
   "codemirror_mode": {
    "name": "ipython",
    "version": 3
   },
   "file_extension": ".py",
   "mimetype": "text/x-python",
   "name": "python",
   "nbconvert_exporter": "python",
   "pygments_lexer": "ipython3",
   "version": "3.6.7"
  }
 },
 "nbformat": 4,
 "nbformat_minor": 2
}
